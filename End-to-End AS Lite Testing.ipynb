{
 "cells": [
  {
   "cell_type": "code",
   "execution_count": 1,
   "metadata": {},
   "outputs": [
    {
     "name": "stderr",
     "output_type": "stream",
     "text": [
      "C:\\Users\\tamohant\\AppData\\Local\\Continuum\\anaconda3\\lib\\site-packages\\numpy\\core\\__init__.py:29: UserWarning: loaded more than 1 DLL from .libs:\n",
      "C:\\Users\\tamohant\\AppData\\Local\\Continuum\\anaconda3\\lib\\site-packages\\numpy\\.libs\\libopenblas.PYQHXLVVQ7VESDPUVUADXEVJOBGHJPAY.gfortran-win_amd64.dll\n",
      "C:\\Users\\tamohant\\AppData\\Local\\Continuum\\anaconda3\\lib\\site-packages\\numpy\\.libs\\libopenblas.TXA6YQSD3GCQQC22GEQ54J2UDCXDXHWN.gfortran-win_amd64.dll\n",
      "  stacklevel=1)\n",
      "C:\\Users\\tamohant\\AppData\\Roaming\\Python\\Python37\\site-packages\\spacy\\util.py:275: UserWarning: [W031] Model 'en_core_web_sm' (2.2.5) requires spaCy v2.2 and is incompatible with the current spaCy version (2.3.2). This may lead to unexpected results or runtime errors. To resolve this, download a newer compatible model or retrain your custom model with the current spaCy version. For more details and available updates, run: python -m spacy validate\n",
      "  warnings.warn(warn_msg)\n",
      "C:\\Users\\tamohant\\AppData\\Roaming\\Python\\Python37\\site-packages\\spacy\\util.py:275: UserWarning: [W031] Model 'en_core_web_sm' (2.2.5) requires spaCy v2.2 and is incompatible with the current spaCy version (2.3.2). This may lead to unexpected results or runtime errors. To resolve this, download a newer compatible model or retrain your custom model with the current spaCy version. For more details and available updates, run: python -m spacy validate\n",
      "  warnings.warn(warn_msg)\n"
     ]
    }
   ],
   "source": [
    "import os\n",
    "import sys\n",
    "import test\n",
    "import train\n",
    "import utils\n",
    "import config\n",
    "import tarfile\n",
    "import datetime\n",
    "import traceback\n",
    "import similarity\n",
    "import pandas as pd\n",
    "import preprocessing\n",
    "import visualization"
   ]
  },
  {
   "cell_type": "code",
   "execution_count": 2,
   "metadata": {},
   "outputs": [],
   "source": [
    "def maintrain(pData, pDesc, pLevel1, pLevel2, pModelName, pRootDir, nTickets):\n",
    "    if not set([pDesc, pLevel1, pLevel2]).issubset(pData.columns):\n",
    "        print('*** ERROR[001]: Loading XLS - Could be due to using non-standard template ***', str(pData.columns))\n",
    "        return(-1, pData)\n",
    "    try:\n",
    "       train.createModel(pData, pDesc, pLevel1, pLevel2, pModelName, pRootDir, nTickets)\n",
    "    \n",
    "    except Exception as e:\n",
    "        print('*** ERROR[002]: Error in Train main function: ', sys.exc_info()[0],str(e))\n",
    "        print(traceback.format_exc())\n",
    "        return(-1)\n",
    "    return(0)"
   ]
  },
  {
   "cell_type": "code",
   "execution_count": 3,
   "metadata": {},
   "outputs": [],
   "source": [
    "def maintest(pData, pDesc, pTh, pThSim, pTicketId, pLevel1, pLevel2, pModelName, pRootDir):\n",
    "    if not set([pDesc, pTicketId]).issubset(pData.columns):\n",
    "        print('*** ERROR[003]: Loading XLS - Could be due to using non-standard template ***', str(pData.columns))\n",
    "        return(-1, pData)\n",
    "    try:\n",
    "        _, TestOutputData, pClassNames, pVec = test.intentpred(pData, pDesc, pTh, pThSim, pTicketId, pLevel1, pLevel2, pModelName, pRootDir)\n",
    "    except Exception as e:\n",
    "        print('*** ERROR[004]: Error in Test main function: ', sys.exc_info()[0],str(e))\n",
    "        print(traceback.format_exc())\n",
    "        return(-1)\n",
    "    return(0, TestOutputData, pClassNames, pVec)"
   ]
  },
  {
   "cell_type": "code",
   "execution_count": 4,
   "metadata": {},
   "outputs": [],
   "source": [
    "import os\n",
    "pAccountName = 'model\\\\'+'TMobile' #model Name \n",
    "pTh = 0.3 # Thershold below intent is categorzied other\n",
    "pDesc = 'Ticket_Description' # Ticket Description column name for training and testing\n",
    "pRootDir = 'C:\\\\Users\\\\tamohant\\\\Desktop\\\\Auto_synthesis_Training_data\\\\AutoSynthesisLite\\\\data' # Directory of the data file\n",
    "pLevel1 = 'Level1' # Column name of Level1\n",
    "pLevel2 = 'Level2' # column name of Level2\n",
    "pTrainingFileName = 'TrainData' # name for training file\n",
    "pTestFileName = 'TestData' # name for testing file\n",
    "pTrainDir = os.path.join(pRootDir,'inputtraindata') # Training file directory\n",
    "pTestDir = os.path.join(pRootDir,'inputtestdata') # Testing file Directory\n",
    "Train = True # Boolean whether to run the script for training or not\n",
    "Test = True # Boolean whether to run scrip for testing of not \n",
    "sim = True # Boolean whether to run scrip for Similarity or not\n",
    "pTicketId = 'Ticket_No' # colum name for ticket column\n",
    "#preprocessing = True\n",
    "nTickets = 5\n",
    "Idx = [100,120,150,300] # Row no. to display for keyword weightage\n",
    "viz = True #Boolean whether to run the script of visualization\n",
    "nTopKeywrd = 10 #Top keywords to represent in weight calculation for an intent\n",
    "pTrainingDataDir = os.path.join(pRootDir  + '\\\\' + 'traindata' + '\\\\' + str(pAccountName[6:]))\n",
    "pThSim = 0.95"
   ]
  },
  {
   "cell_type": "code",
   "execution_count": 5,
   "metadata": {},
   "outputs": [],
   "source": [
    "pTrainingFiles, pData = utils.Filelist(pTrainDir)"
   ]
  },
  {
   "cell_type": "code",
   "execution_count": 6,
   "metadata": {},
   "outputs": [],
   "source": [
    "if not os.path.exists(pRootDir +  '\\\\' + 'traindata' +  '\\\\' + str(pAccountName[6:]) ):\n",
    "    os.makedirs(pRootDir + '\\\\' + 'traindata' + '\\\\' + str(pAccountName[6:]))"
   ]
  },
  {
   "cell_type": "code",
   "execution_count": 7,
   "metadata": {},
   "outputs": [],
   "source": [
    "pTrainingData = pData\n",
    "pTrainingData.to_excel(os.path.join(pRootDir  + '\\\\' + 'traindata' + '\\\\' + str(pAccountName[6:]), pTrainingFileName + '.xlsx'), index = False)      "
   ]
  },
  {
   "cell_type": "code",
   "execution_count": 8,
   "metadata": {},
   "outputs": [
    {
     "name": "stdout",
     "output_type": "stream",
     "text": [
      "--> preprocessing started\n",
      "--> preprocessing completed\n"
     ]
    }
   ],
   "source": [
    "_, pTrainingData = preprocessing.preprocess(pTrainingData, pDesc)\n",
    "pDesc = 'Sample'"
   ]
  },
  {
   "cell_type": "code",
   "execution_count": 9,
   "metadata": {},
   "outputs": [
    {
     "name": "stdout",
     "output_type": "stream",
     "text": [
      "Started vector for Sample \n"
     ]
    },
    {
     "name": "stderr",
     "output_type": "stream",
     "text": [
      "C:\\Users\\tamohant\\AppData\\Local\\Continuum\\anaconda3\\lib\\site-packages\\sklearn\\feature_extraction\\text.py:484: UserWarning: The parameter 'token_pattern' will not be used since 'tokenizer' is not None'\n",
      "  warnings.warn(\"The parameter 'token_pattern' will not be used\"\n",
      "C:\\Users\\tamohant\\AppData\\Local\\Continuum\\anaconda3\\lib\\site-packages\\sklearn\\feature_extraction\\text.py:497: UserWarning: The parameter 'stop_words' will not be used since 'analyzer' != 'word'\n",
      "  warnings.warn(\"The parameter 'stop_words' will not be used\"\n",
      "C:\\Users\\tamohant\\AppData\\Local\\Continuum\\anaconda3\\lib\\site-packages\\sklearn\\feature_extraction\\text.py:504: UserWarning: The parameter 'tokenizer' will not be used since 'analyzer' != 'word'\n",
      "  warnings.warn(\"The parameter 'tokenizer' will not be used\"\n"
     ]
    },
    {
     "name": "stdout",
     "output_type": "stream",
     "text": [
      "completed vector for Sample \n",
      "Number of Tickets for training : 1000\n",
      "Creating vector for intent:  Process Order__Plan order flow and transportation\n"
     ]
    },
    {
     "name": "stderr",
     "output_type": "stream",
     "text": [
      "C:\\Users\\tamohant\\AppData\\Local\\Continuum\\anaconda3\\lib\\site-packages\\sklearn\\linear_model\\_sag.py:330: ConvergenceWarning: The max_iter was reached which means the coef_ did not converge\n",
      "  \"the coef_ did not converge\", ConvergenceWarning)\n"
     ]
    },
    {
     "name": "stdout",
     "output_type": "stream",
     "text": [
      "Creating vector for intent:  Perform post Delivery Activities__Receive & post payments\n"
     ]
    },
    {
     "name": "stderr",
     "output_type": "stream",
     "text": [
      "C:\\Users\\tamohant\\AppData\\Local\\Continuum\\anaconda3\\lib\\site-packages\\sklearn\\linear_model\\_sag.py:330: ConvergenceWarning: The max_iter was reached which means the coef_ did not converge\n",
      "  \"the coef_ did not converge\", ConvergenceWarning)\n"
     ]
    },
    {
     "name": "stdout",
     "output_type": "stream",
     "text": [
      "Creating vector for intent:  Process Order__Check Inventory & Order Confirmation\n"
     ]
    },
    {
     "name": "stderr",
     "output_type": "stream",
     "text": [
      "C:\\Users\\tamohant\\AppData\\Local\\Continuum\\anaconda3\\lib\\site-packages\\sklearn\\linear_model\\_sag.py:330: ConvergenceWarning: The max_iter was reached which means the coef_ did not converge\n",
      "  \"the coef_ did not converge\", ConvergenceWarning)\n"
     ]
    },
    {
     "name": "stdout",
     "output_type": "stream",
     "text": [
      "Creating vector for intent:  Handle Documentation __Generate Invoice\n"
     ]
    },
    {
     "name": "stderr",
     "output_type": "stream",
     "text": [
      "C:\\Users\\tamohant\\AppData\\Local\\Continuum\\anaconda3\\lib\\site-packages\\sklearn\\linear_model\\_sag.py:330: ConvergenceWarning: The max_iter was reached which means the coef_ did not converge\n",
      "  \"the coef_ did not converge\", ConvergenceWarning)\n"
     ]
    },
    {
     "name": "stdout",
     "output_type": "stream",
     "text": [
      "Creating vector for intent:  Generate & Communicate Order__Transmit Data\n"
     ]
    },
    {
     "name": "stderr",
     "output_type": "stream",
     "text": [
      "C:\\Users\\tamohant\\AppData\\Local\\Continuum\\anaconda3\\lib\\site-packages\\sklearn\\linear_model\\_sag.py:330: ConvergenceWarning: The max_iter was reached which means the coef_ did not converge\n",
      "  \"the coef_ did not converge\", ConvergenceWarning)\n"
     ]
    },
    {
     "name": "stdout",
     "output_type": "stream",
     "text": [
      "Creating vector for intent:  Delivery Order__Transmit delivery confirmation\n"
     ]
    },
    {
     "name": "stderr",
     "output_type": "stream",
     "text": [
      "C:\\Users\\tamohant\\AppData\\Local\\Continuum\\anaconda3\\lib\\site-packages\\sklearn\\linear_model\\_sag.py:330: ConvergenceWarning: The max_iter was reached which means the coef_ did not converge\n",
      "  \"the coef_ did not converge\", ConvergenceWarning)\n"
     ]
    },
    {
     "name": "stdout",
     "output_type": "stream",
     "text": [
      "Creating vector for intent:  Enter Order__Enter Order\n"
     ]
    },
    {
     "name": "stderr",
     "output_type": "stream",
     "text": [
      "C:\\Users\\tamohant\\AppData\\Local\\Continuum\\anaconda3\\lib\\site-packages\\sklearn\\linear_model\\_sag.py:330: ConvergenceWarning: The max_iter was reached which means the coef_ did not converge\n",
      "  \"the coef_ did not converge\", ConvergenceWarning)\n"
     ]
    },
    {
     "name": "stdout",
     "output_type": "stream",
     "text": [
      "Creating vector for intent:  Perform post Delivery Activities__Collection / Extra Cost\n"
     ]
    },
    {
     "name": "stderr",
     "output_type": "stream",
     "text": [
      "C:\\Users\\tamohant\\AppData\\Local\\Continuum\\anaconda3\\lib\\site-packages\\sklearn\\linear_model\\_sag.py:330: ConvergenceWarning: The max_iter was reached which means the coef_ did not converge\n",
      "  \"the coef_ did not converge\", ConvergenceWarning)\n"
     ]
    },
    {
     "name": "stdout",
     "output_type": "stream",
     "text": [
      "Creating vector for intent:  Enter Order__Receive Order \n"
     ]
    },
    {
     "name": "stderr",
     "output_type": "stream",
     "text": [
      "C:\\Users\\tamohant\\AppData\\Local\\Continuum\\anaconda3\\lib\\site-packages\\sklearn\\linear_model\\_sag.py:330: ConvergenceWarning: The max_iter was reached which means the coef_ did not converge\n",
      "  \"the coef_ did not converge\", ConvergenceWarning)\n"
     ]
    },
    {
     "name": "stdout",
     "output_type": "stream",
     "text": [
      "Creating vector for intent:  Enter Order__Edit Order\n"
     ]
    },
    {
     "name": "stderr",
     "output_type": "stream",
     "text": [
      "C:\\Users\\tamohant\\AppData\\Local\\Continuum\\anaconda3\\lib\\site-packages\\sklearn\\linear_model\\_sag.py:330: ConvergenceWarning: The max_iter was reached which means the coef_ did not converge\n",
      "  \"the coef_ did not converge\", ConvergenceWarning)\n"
     ]
    },
    {
     "name": "stdout",
     "output_type": "stream",
     "text": [
      "Creating vector for intent:  Delivery Order__Prepare Shipping Documents \n"
     ]
    },
    {
     "name": "stderr",
     "output_type": "stream",
     "text": [
      "C:\\Users\\tamohant\\AppData\\Local\\Continuum\\anaconda3\\lib\\site-packages\\sklearn\\linear_model\\_sag.py:330: ConvergenceWarning: The max_iter was reached which means the coef_ did not converge\n",
      "  \"the coef_ did not converge\", ConvergenceWarning)\n"
     ]
    },
    {
     "name": "stdout",
     "output_type": "stream",
     "text": [
      "Creating vector for intent:  Generate & Communicate Order __Transmit Data\n"
     ]
    },
    {
     "name": "stderr",
     "output_type": "stream",
     "text": [
      "C:\\Users\\tamohant\\AppData\\Local\\Continuum\\anaconda3\\lib\\site-packages\\sklearn\\linear_model\\_sag.py:330: ConvergenceWarning: The max_iter was reached which means the coef_ did not converge\n",
      "  \"the coef_ did not converge\", ConvergenceWarning)\n"
     ]
    },
    {
     "data": {
      "text/plain": [
       "0"
      ]
     },
     "execution_count": 9,
     "metadata": {},
     "output_type": "execute_result"
    }
   ],
   "source": [
    "maintrain(pTrainingData, pDesc, pLevel1, pLevel2, pAccountName, pRootDir, nTickets)  "
   ]
  },
  {
   "cell_type": "code",
   "execution_count": 10,
   "metadata": {},
   "outputs": [],
   "source": [
    "pTestFiles, pData = utils.Filelist(pTestDir)"
   ]
  },
  {
   "cell_type": "code",
   "execution_count": 11,
   "metadata": {},
   "outputs": [],
   "source": [
    "if len(pTestFiles) > 0: \n",
    "    pTestingData = pData\n",
    "    if not os.path.exists(pRootDir +  '\\\\' + 'testdata' +  '\\\\' + str(pAccountName[6:]) ):\n",
    "        os.makedirs(pRootDir + '\\\\' + 'testdata' + '\\\\' + str(pAccountName[6:]) )\n",
    "    pTestingData.to_excel(os.path.join(pRootDir  + '\\\\' + 'testdata' + '\\\\' + str(pAccountName[6:]), pTestFileName + '.xlsx'), index = False)         \n",
    "else:\n",
    "    print('No files in the directory')\n",
    "    sys.exit(-1)"
   ]
  },
  {
   "cell_type": "code",
   "execution_count": 12,
   "metadata": {},
   "outputs": [
    {
     "name": "stdout",
     "output_type": "stream",
     "text": [
      "--> preprocessing started\n",
      "--> preprocessing completed\n"
     ]
    }
   ],
   "source": [
    "pDesc = config.pDesc\n",
    "_, pTestingData = preprocessing.preprocess(pTestingData, pDesc)\n",
    "pDesc = 'Sample'"
   ]
  },
  {
   "cell_type": "code",
   "execution_count": 13,
   "metadata": {},
   "outputs": [],
   "source": [
    "pTrainingFiles, pTrainingData = utils.Filelist(pTrainingDataDir)\n",
    "pDesc = config.pDesc"
   ]
  },
  {
   "cell_type": "code",
   "execution_count": 14,
   "metadata": {},
   "outputs": [],
   "source": [
    "if len(pTrainingFiles) > 0:\n",
    "    __, pTestingData = similarity.similaritypolymain(pTrainingData, pTestingData, pLevel1, pLevel2, pDesc)\n",
    "else:\n",
    "    print('No Training File present to compare skipping similarity')\n",
    "    pass"
   ]
  },
  {
   "cell_type": "code",
   "execution_count": 15,
   "metadata": {},
   "outputs": [
    {
     "name": "stdout",
     "output_type": "stream",
     "text": [
      "Length of file for Prediction after similarity: 1688\n",
      "Calculating prediction of intent Delivery Order__Prepare Shipping Documents \n",
      "Calculating prediction of intent Delivery Order__Transmit delivery confirmation\n",
      "Calculating prediction of intent Enter Order__Edit Order\n",
      "Calculating prediction of intent Enter Order__Enter Order\n",
      "Calculating prediction of intent Enter Order__Receive Order \n",
      "Calculating prediction of intent Generate & Communicate Order __Transmit Data\n",
      "Calculating prediction of intent Generate & Communicate Order__Transmit Data\n",
      "Calculating prediction of intent Handle Documentation __Generate Invoice\n",
      "Calculating prediction of intent Perform post Delivery Activities__Collection or Extra Cost\n",
      "Calculating prediction of intent Perform post Delivery Activities__Receive & post payments\n",
      "Calculating prediction of intent Process Order__Check Inventory & Order Confirmation\n",
      "Calculating prediction of intent Process Order__Plan order flow and transportation\n"
     ]
    }
   ],
   "source": [
    "_, pTestOutputData, pClassNames, pVec = maintest(pTestingData, pDesc, pTh, pThSim, pTicketId, pLevel1, pLevel2, pAccountName, pRootDir)"
   ]
  },
  {
   "cell_type": "code",
   "execution_count": 17,
   "metadata": {},
   "outputs": [
    {
     "data": {
      "text/plain": [
       "0"
      ]
     },
     "execution_count": 17,
     "metadata": {},
     "output_type": "execute_result"
    }
   ],
   "source": [
    "visualization.eli5visual(pTestOutputData, pDesc, Idx, pAccountName, pVec, nTopKeywrd, pRootDir)"
   ]
  },
  {
   "cell_type": "code",
   "execution_count": null,
   "metadata": {},
   "outputs": [],
   "source": []
  }
 ],
 "metadata": {
  "kernelspec": {
   "display_name": "Python 3",
   "language": "python",
   "name": "python3"
  },
  "language_info": {
   "codemirror_mode": {
    "name": "ipython",
    "version": 3
   },
   "file_extension": ".py",
   "mimetype": "text/x-python",
   "name": "python",
   "nbconvert_exporter": "python",
   "pygments_lexer": "ipython3",
   "version": "3.7.1"
  }
 },
 "nbformat": 4,
 "nbformat_minor": 2
}
