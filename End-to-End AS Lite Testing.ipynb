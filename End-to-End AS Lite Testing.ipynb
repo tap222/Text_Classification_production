{
 "cells": [
  {
   "cell_type": "code",
   "execution_count": 1,
   "metadata": {},
   "outputs": [
    {
     "name": "stderr",
     "output_type": "stream",
     "text": [
      "C:\\Users\\tamohant\\AppData\\Local\\Continuum\\anaconda3\\lib\\site-packages\\numpy\\core\\__init__.py:29: UserWarning: loaded more than 1 DLL from .libs:\n",
      "C:\\Users\\tamohant\\AppData\\Local\\Continuum\\anaconda3\\lib\\site-packages\\numpy\\.libs\\libopenblas.PYQHXLVVQ7VESDPUVUADXEVJOBGHJPAY.gfortran-win_amd64.dll\n",
      "C:\\Users\\tamohant\\AppData\\Local\\Continuum\\anaconda3\\lib\\site-packages\\numpy\\.libs\\libopenblas.TXA6YQSD3GCQQC22GEQ54J2UDCXDXHWN.gfortran-win_amd64.dll\n",
      "  stacklevel=1)\n"
     ]
    }
   ],
   "source": [
    "import os\n",
    "import sys\n",
    "import test\n",
    "import train\n",
    "import utils\n",
    "import config\n",
    "import tarfile\n",
    "import datetime\n",
    "import traceback\n",
    "import pandas as pd\n",
    "import preprocessing\n",
    "import visualization\n",
    "%matplotlib inline"
   ]
  },
  {
   "cell_type": "code",
   "execution_count": 2,
   "metadata": {},
   "outputs": [],
   "source": [
    "def maintrain(pData, pDesc, pLevel1, pLevel2, pModelName, pRootDir, nTickets):\n",
    "    if not set([pDesc, pLevel1, pLevel2]).issubset(pData.columns):\n",
    "        print('*** ERROR[001]: Loading XLS - Could be due to using non-standard template ***', str(pData.columns))\n",
    "        return(-1, pData)\n",
    "    try:\n",
    "       train.createModel(pData, pDesc, pLevel1, pLevel2, pModelName, pRootDir, nTickets)\n",
    "    \n",
    "    except Exception as e:\n",
    "        print('*** ERROR[002]: Error in Train main function: ', sys.exc_info()[0],str(e))\n",
    "        print(traceback.format_exc())\n",
    "        return(-1)\n",
    "    return(0)"
   ]
  },
  {
   "cell_type": "code",
   "execution_count": 3,
   "metadata": {},
   "outputs": [],
   "source": [
    "def maintest(pData, pDesc, pTh, pTicketId, pLevel1, pLevel2, pModelName, pRootDir):\n",
    "    if not set([pDesc, pTicketId]).issubset(pData.columns):\n",
    "        print('*** ERROR[003]: Loading XLS - Could be due to using non-standard template ***', str(pData.columns))\n",
    "        return(-1, pData)\n",
    "    try:\n",
    "        _, TestOutputData, pClassNames, pVec = test.intentpred(pData, pDesc, pTh, pTicketId, pLevel1, pLevel2, pModelName, pRootDir)\n",
    "    \n",
    "    except Exception as e:\n",
    "        print('*** ERROR[004]: Error in Test main function: ', sys.exc_info()[0],str(e))\n",
    "        print(traceback.format_exc())\n",
    "        return(-1)\n",
    "    return(0, TestOutputData, pClassNames, pVec)"
   ]
  },
  {
   "cell_type": "code",
   "execution_count": 4,
   "metadata": {},
   "outputs": [],
   "source": [
    "pRootDir = config.pRootDir\n",
    "pAccountName = config.pAccountName\n",
    "pTrainingFileName = config.pTrainingFileName\n",
    "pDesc = config.pDesc\n",
    "pLevel1 = config.pLevel1\n",
    "pLevel2 = config.pLevel2\n",
    "pTh = config.pTh\n",
    "pTicketId = config.pTicketId\n",
    "pTestFileName = config.pTestFileName\n",
    "pTrainDir = config.pTrainDir\n",
    "pTestDir = config.pTestDir\n",
    "nTickets = config.nTickets\n",
    "nNumFeatures = config.nNumFeatures \n",
    "Idx = config.Idx\n",
    "nTopLabels = config.nTopLabels\n",
    "tLabels = config.tLabels\n",
    "pModelName = config.pModelName\n",
    "nTopKeywrd = config.nTopKeywrd"
   ]
  },
  {
   "cell_type": "code",
   "execution_count": 5,
   "metadata": {},
   "outputs": [],
   "source": [
    "pTrainingFiles, pData = utils.Filelist(pTrainDir)"
   ]
  },
  {
   "cell_type": "code",
   "execution_count": 6,
   "metadata": {},
   "outputs": [],
   "source": [
    "if not os.path.exists(pRootDir +  '\\\\' + 'traindata' +  '\\\\' + str(pAccountName[6:]) ):\n",
    "    os.makedirs(pRootDir + '\\\\' + 'traindata' + '\\\\' + str(pAccountName[6:]))"
   ]
  },
  {
   "cell_type": "code",
   "execution_count": 7,
   "metadata": {},
   "outputs": [],
   "source": [
    "pTrainingData = pData\n",
    "pTrainingData.to_excel(os.path.join(pRootDir  + '\\\\' + 'traindata' + '\\\\' + str(pAccountName[6:]), pTrainingFileName + '.xlsx'), index = False)      "
   ]
  },
  {
   "cell_type": "code",
   "execution_count": 8,
   "metadata": {},
   "outputs": [
    {
     "name": "stdout",
     "output_type": "stream",
     "text": [
      "--> preprocessing started\n",
      "--> preprocessing completed\n"
     ]
    }
   ],
   "source": [
    "_, pTrainingData = preprocessing.preprocess(pTrainingData, pDesc)\n",
    "pDesc = 'Sample'"
   ]
  },
  {
   "cell_type": "code",
   "execution_count": 9,
   "metadata": {},
   "outputs": [
    {
     "name": "stdout",
     "output_type": "stream",
     "text": [
      "Started vector for Sample \n",
      "completed vector for Sample \n",
      "Number of Tickets for training : 1000\n",
      "Creating vector for intent:  Process Order__Plan order flow and transportation\n",
      "Creating vector for intent:  Perform post Delivery Activities__Receive & post payments\n",
      "Creating vector for intent:  Process Order__Check Inventory & Order Confirmation\n",
      "Creating vector for intent:  Handle Documentation __Generate Invoice\n",
      "Creating vector for intent:  Generate & Communicate Order__Transmit Data\n",
      "Creating vector for intent:  Delivery Order__Transmit delivery confirmation\n",
      "Creating vector for intent:  Enter Order__Enter Order\n",
      "Creating vector for intent:  Perform post Delivery Activities__Collection / Extra Cost\n",
      "Creating vector for intent:  Enter Order__Receive Order \n",
      "Creating vector for intent:  Enter Order__Edit Order\n",
      "Creating vector for intent:  Delivery Order__Prepare Shipping Documents \n",
      "Creating vector for intent:  Generate & Communicate Order __Transmit Data\n"
     ]
    },
    {
     "data": {
      "text/plain": [
       "0"
      ]
     },
     "execution_count": 9,
     "metadata": {},
     "output_type": "execute_result"
    }
   ],
   "source": [
    "maintrain(pTrainingData, pDesc, pLevel1, pLevel2, pAccountName, pRootDir, nTickets)  "
   ]
  },
  {
   "cell_type": "code",
   "execution_count": 10,
   "metadata": {},
   "outputs": [],
   "source": [
    "pTestFiles, pData = utils.Filelist(pTestDir)"
   ]
  },
  {
   "cell_type": "code",
   "execution_count": 11,
   "metadata": {},
   "outputs": [],
   "source": [
    "if len(pTestFiles) > 0: \n",
    "    pTestingData = pData\n",
    "    if not os.path.exists(pRootDir +  '\\\\' + 'testdata' +  '\\\\' + str(pAccountName[6:]) ):\n",
    "        os.makedirs(pRootDir + '\\\\' + 'testdata' + '\\\\' + str(pAccountName[6:]) )\n",
    "    pTestingData.to_excel(os.path.join(pRootDir  + '\\\\' + 'testdata' + '\\\\' + str(pAccountName[6:]), pTestFileName + '.xlsx'), index = False)         \n",
    "else:\n",
    "    print('No files in the directory')\n",
    "    sys.exit(-1)"
   ]
  },
  {
   "cell_type": "code",
   "execution_count": 12,
   "metadata": {},
   "outputs": [
    {
     "name": "stdout",
     "output_type": "stream",
     "text": [
      "--> preprocessing started\n",
      "--> preprocessing completed\n"
     ]
    }
   ],
   "source": [
    "pDesc = config.pDesc\n",
    "_, pTestingData = preprocessing.preprocess(pTestingData, pDesc)\n",
    "pDesc = 'Sample'"
   ]
  },
  {
   "cell_type": "code",
   "execution_count": 13,
   "metadata": {},
   "outputs": [
    {
     "name": "stdout",
     "output_type": "stream",
     "text": [
      "Calculating prediction of intent Delivery Order__Prepare Shipping Documents \n",
      "Calculating prediction of intent Delivery Order__Transmit delivery confirmation\n",
      "Calculating prediction of intent Enter Order__Edit Order\n",
      "Calculating prediction of intent Enter Order__Enter Order\n",
      "Calculating prediction of intent Enter Order__Receive Order \n",
      "Calculating prediction of intent Generate & Communicate Order __Transmit Data\n",
      "Calculating prediction of intent Generate & Communicate Order__Transmit Data\n",
      "Calculating prediction of intent Handle Documentation __Generate Invoice\n",
      "Calculating prediction of intent Perform post Delivery Activities__Collection or Extra Cost\n",
      "Calculating prediction of intent Perform post Delivery Activities__Receive & post payments\n",
      "Calculating prediction of intent Process Order__Check Inventory & Order Confirmation\n",
      "Calculating prediction of intent Process Order__Plan order flow and transportation\n"
     ]
    }
   ],
   "source": [
    "_, pTestOutputData, pClassNames, pVec = maintest(pTestingData, pDesc, pTh, pTicketId, pLevel1, pLevel2, pAccountName, pRootDir)"
   ]
  },
  {
   "cell_type": "code",
   "execution_count": 14,
   "metadata": {},
   "outputs": [
    {
     "data": {
      "text/plain": [
       "0"
      ]
     },
     "execution_count": 14,
     "metadata": {},
     "output_type": "execute_result"
    }
   ],
   "source": [
    "visualization.eli5visual(pTestOutputData, pDesc, Idx, pAccountName, pVec, nTopKeywrd, pRootDir)"
   ]
  }
 ],
 "metadata": {
  "kernelspec": {
   "display_name": "Python 3",
   "language": "python",
   "name": "python3"
  },
  "language_info": {
   "codemirror_mode": {
    "name": "ipython",
    "version": 3
   },
   "file_extension": ".py",
   "mimetype": "text/x-python",
   "name": "python",
   "nbconvert_exporter": "python",
   "pygments_lexer": "ipython3",
   "version": "3.7.1"
  }
 },
 "nbformat": 4,
 "nbformat_minor": 2
}
